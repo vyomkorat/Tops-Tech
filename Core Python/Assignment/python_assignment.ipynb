{
 "cells": [
  {
   "cell_type": "code",
   "execution_count": 4,
   "metadata": {},
   "outputs": [
    {
     "name": "stdout",
     "output_type": "stream",
     "text": [
      "positive\n"
     ]
    }
   ],
   "source": [
    "#4) Write a Python program to check if a number is positive, negative or zero.\n",
    "\n",
    "num=int(input(\"enter the num:\"))\n",
    "if num > 0:\n",
    "    print(\"positive\")\n",
    "elif num == 0:\n",
    "    print(\"zero\")\n",
    "elif num < 0:\n",
    "    print(\"negative\")"
   ]
  },
  {
   "cell_type": "code",
   "execution_count": 9,
   "metadata": {},
   "outputs": [
    {
     "name": "stdout",
     "output_type": "stream",
     "text": [
      "120\n"
     ]
    }
   ],
   "source": [
    "# 5) Write a Python program to get the Factorial number of given numbers. \n",
    "\n",
    "num=int(input(\"enter the num:\"))\n",
    "factorial=1\n",
    "for i in range (1,num+1):\n",
    "    factorial*=i\n",
    "print(factorial)"
   ]
  },
  {
   "cell_type": "code",
   "execution_count": 4,
   "metadata": {},
   "outputs": [
    {
     "name": "stdout",
     "output_type": "stream",
     "text": [
      "0 1 1 2 3 "
     ]
    }
   ],
   "source": [
    "# 6) Write a Python program to get the Fibonacci series of given range. \n",
    "\n",
    "\n",
    "def fibonacci_series(n):\n",
    "    a,b=0,1\n",
    "\n",
    "    if n <= 0:\n",
    "        print(\"enter positive number\")\n",
    "        return\n",
    "    elif n == 1:\n",
    "        print(a)\n",
    "        return\n",
    "    print(a,b,end=\" \")\n",
    "    for i in range(2,n):\n",
    "        c = a+b\n",
    "        a=b\n",
    "        b=c\n",
    "        print(c,end=\" \")\n",
    "\n",
    "n=int(input(\"enter the number:\"))\n",
    "fibonacci_series(n)\n"
   ]
  },
  {
   "cell_type": "code",
   "execution_count": 43,
   "metadata": {},
   "outputs": [
    {
     "name": "stdout",
     "output_type": "stream",
     "text": [
      "after swaping with temp variable:(6, 5)\n",
      "After swapping without temp variable: First number = 3, Second number = 2\n"
     ]
    }
   ],
   "source": [
    "# 9) Write python program that swap two number with temp variable and without temp variable. \n",
    "\n",
    "# with temp variable\n",
    "def swap(a,b):\n",
    "    temp=a\n",
    "    a=b\n",
    "    b=temp\n",
    "    return a,b\n",
    "a=int(input(\"enter the first number:\"))\n",
    "b=int(input(\"enter the second number\"))\n",
    "\n",
    "swap=swap(a,b)\n",
    "print(f\"after swaping with temp variable:{swap}\")\n",
    "\n",
    "\n",
    "# without temp variable. \n",
    "a = int(input(\"Enter the first number: \"))\n",
    "b = int(input(\"Enter the second number: \"))\n",
    "\n",
    "n = a + b\n",
    "b1 = n - b\n",
    "a1 = n - a\n",
    "print(f\"After swapping without temp variable: First number = {a1}, Second number = {b1}\")"
   ]
  },
  {
   "cell_type": "code",
   "execution_count": 3,
   "metadata": {},
   "outputs": [
    {
     "name": "stdout",
     "output_type": "stream",
     "text": [
      "Invalid input! Please enter an integer.\n"
     ]
    }
   ],
   "source": [
    "# 10) Write a Python program to find whether a given number is even or odd, print out an appropriate message to the user. \n",
    "\n",
    "\n",
    "\n",
    "def even_odd_number():\n",
    "    try:\n",
    "        n = int(input(\"Enter a number: \"))\n",
    "        if n < 0:\n",
    "            print(\"The number is negative.\")\n",
    "        if n % 2 == 0:\n",
    "            print(f\"{n} is an even number.\")\n",
    "        else:\n",
    "            print(f\"{n} is an odd number.\")\n",
    "    except ValueError:\n",
    "        print(\"Invalid input! Please enter an integer.\")\n",
    "\n",
    "\n",
    "even_odd_number()"
   ]
  },
  {
   "cell_type": "code",
   "execution_count": 6,
   "metadata": {},
   "outputs": [
    {
     "name": "stdout",
     "output_type": "stream",
     "text": [
      "a is a vowel.\n"
     ]
    }
   ],
   "source": [
    "# 11) Write a Python program to test whether a passed letter is a vowel or not. \n",
    "letter = input(\"Enter a letter: \").lower()\n",
    "\n",
    "if letter in 'aeiou':\n",
    "    print(f\"{letter} is a vowel.\")\n",
    "else:\n",
    "    print(f\"{letter} is not a vowel.\")\n"
   ]
  },
  {
   "cell_type": "code",
   "execution_count": 8,
   "metadata": {},
   "outputs": [
    {
     "name": "stdout",
     "output_type": "stream",
     "text": [
      "zero\n"
     ]
    }
   ],
   "source": [
    "# 12) Write a Python program to sum of three given integers. However, if two values are equal sum will be zero.\n",
    "\n",
    "n1=int(input(\"enter the number 1:\"))\n",
    "n2=int(input(\"enter the number 2:\"))\n",
    "n3=int(input(\"enter the number 3:\"))\n",
    "\n",
    "sum= n1+n2+n3\n",
    "\n",
    "if n1==n2 or n2==n3 or n1==n3:\n",
    "    print(\"zero\")\n",
    "else:\n",
    "    print(sum)\n"
   ]
  },
  {
   "cell_type": "code",
   "execution_count": 9,
   "metadata": {},
   "outputs": [
    {
     "name": "stdout",
     "output_type": "stream",
     "text": [
      "false\n"
     ]
    }
   ],
   "source": [
    "# 13) Write a Python program that will return true if the two given integer values are equal or their sum or difference is 5. \n",
    "\n",
    "\n",
    "n1=int(input(\"enter the number 1:\"))\n",
    "n2=int(input(\"enter the number 2:\"))\n",
    "\n",
    "if n1==n2 or (n1+n2)==5 or (n1-n2)==5:\n",
    "    print(\"true\")\n",
    "else:\n",
    "    print(\"false\")\n",
    "\n",
    "\n",
    "\n"
   ]
  },
  {
   "cell_type": "code",
   "execution_count": 12,
   "metadata": {},
   "outputs": [
    {
     "name": "stdout",
     "output_type": "stream",
     "text": [
      "5050.0\n"
     ]
    }
   ],
   "source": [
    "# 14) Write a python program to sum of the first n positive integers. \n",
    "\n",
    "n=int(input(\"Enter a positive integer N:\"))\n",
    "\n",
    "sum = (n*(n+1))/2\n",
    "\n",
    "print(sum)"
   ]
  },
  {
   "cell_type": "code",
   "execution_count": 11,
   "metadata": {},
   "outputs": [
    {
     "name": "stdout",
     "output_type": "stream",
     "text": [
      "Length of the string: tops technology=15\n"
     ]
    }
   ],
   "source": [
    "# 15) Write a Python program to calculate the length of a string. \n",
    "\n",
    "\n",
    "text = input(\"Enter a string: \")\n",
    "length = len(text)\n",
    "print(f\"Length of the string: {text}={length}\")"
   ]
  },
  {
   "cell_type": "code",
   "execution_count": 32,
   "metadata": {},
   "outputs": [
    {
     "name": "stdout",
     "output_type": "stream",
     "text": [
      "Character Frequency: {'t': 6, 'o': 3, 'p': 1, 's': 5, ' ': 4, 'e': 4, 'c': 1, 'h': 1, 'n': 2, 'l': 1, 'g': 1, 'i': 4, 'b': 1, 'u': 1, '.': 1}\n"
     ]
    }
   ],
   "source": [
    "# 16) Write a Python program to count the number of characters (character frequency) in a string \n",
    "\n",
    "text = \"tops technologies is best institute.\"\n",
    "\n",
    "char_freq = {}\n",
    "\n",
    "for char in text:\n",
    "    if char in char_freq:\n",
    "        char_freq[char] += 1\n",
    "    else:\n",
    "        char_freq[char] = 1\n",
    "\n",
    "print(\"Character Frequency:\", char_freq)\n",
    "\n"
   ]
  },
  {
   "cell_type": "code",
   "execution_count": 3,
   "metadata": {},
   "outputs": [
    {
     "name": "stdout",
     "output_type": "stream",
     "text": [
      "The substring 'tops' appears 1 times \n"
     ]
    }
   ],
   "source": [
    "# 18) Write a Python program to count occurrences of a substring in a string.\n",
    "\n",
    "str1 = \"tops technologies is best institute.\"\n",
    "str2 = \"tops\"\n",
    "\n",
    "count = str1.count(str2)\n",
    "\n",
    "print(f\"The substring '{str2}' appears {count} times \")\n"
   ]
  },
  {
   "cell_type": "code",
   "execution_count": 4,
   "metadata": {},
   "outputs": [
    {
     "name": "stdout",
     "output_type": "stream",
     "text": [
      "Word occurrences using Counter: Counter({'tops': 2, 'the': 2, 'best': 2, 'technologies': 1, 'is': 1, 'institute': 1, 'provides': 1, 'training': 1})\n"
     ]
    }
   ],
   "source": [
    "#19) Write a Python program to count the occurrences of each word in a  Page given sentence\n",
    "\n",
    "from collections import Counter\n",
    "\n",
    "sentence = \"Tops Technologies is the best institute. Tops provides the best training.\"\n",
    "words = sentence.lower().replace(\".\", \"\").split()\n",
    "word_count = Counter(words)\n",
    "\n",
    "print(\"Word occurrences using Counter:\", word_count)\n"
   ]
  },
  {
   "cell_type": "code",
   "execution_count": 23,
   "metadata": {},
   "outputs": [
    {
     "name": "stdout",
     "output_type": "stream",
     "text": [
      "baple  apnana\n"
     ]
    }
   ],
   "source": [
    "## 20) Write a Python program to get a single string from two given strings, separated by a space and swap the first two characters of each string.\n",
    "\n",
    "\n",
    "def swap_first_two_chars(str1, str2):\n",
    "    \n",
    "    if len(str1) < 2 or len(str2) < 2:\n",
    "        return \"Both strings must have at least two characters.\"\n",
    "    \n",
    "    \n",
    "    list1 = list(str1)\n",
    "    list2 = list(str2)\n",
    "    \n",
    "    \n",
    "    list1[0], list2[0] = list2[0], list1[0]  \n",
    "    list1[1], list2[1] = list2[1], list1[1]  \n",
    "\n",
    "    new_str1 = \"\".join(list1)\n",
    "    new_str2 = \"\".join(list2)\n",
    "    result = new_str1 + \" \" + new_str2\n",
    "    \n",
    "    \n",
    "    return result\n",
    "\n",
    "\n",
    "str1 = input(\"Enter string1: \").lower()\n",
    "str2 = input(\"Enter string2: \").lower()\n",
    "\n",
    "\n",
    "output = swap_first_two_chars(str1, str2)\n",
    "print(output)\n"
   ]
  },
  {
   "cell_type": "code",
   "execution_count": 14,
   "metadata": {},
   "outputs": [
    {
     "name": "stdout",
     "output_type": "stream",
     "text": [
      "codein\n",
      "codingin\n",
      "go\n"
     ]
    }
   ],
   "source": [
    "# 21) Write a Python program to add 'in' at the end of a given string (length \\should be at least 3). If the given string already ends with 'ing' then add 'ly' instead if the string length of the given string is less than 3, leave it unchanged. \n",
    "\n",
    "\n",
    "def add_string(str1):\n",
    "    length=len(str1)\n",
    "\n",
    "    if length > 2:\n",
    "\n",
    "        if str1[-3:0] == \"ing\":\n",
    "            str1+=\"ly\"\n",
    "        else:\n",
    "            str1+=\"in\"\n",
    "\n",
    "    return str1\n",
    "\n",
    "print(add_string(\"code\"))\n",
    "print(add_string(\"coding\"))\n",
    "print(add_string(\"go\")) \n"
   ]
  },
  {
   "cell_type": "code",
   "execution_count": 17,
   "metadata": {},
   "outputs": [
    {
     "name": "stdout",
     "output_type": "stream",
     "text": [
      "spot\n",
      "hgfedcba\n",
      "python\n"
     ]
    }
   ],
   "source": [
    "#22) Write a Python function to reverses a string if its length is a multiple of 4.\n",
    "\n",
    "def reverse_string(str1):\n",
    "    \n",
    "     if len(str1)%4==0:\n",
    "         return ''.join(reversed(str1))\n",
    "     return str1\n",
    "\n",
    "print(reverse_string(\"tops\"))\n",
    "print(reverse_string(\"abcdefgh\"))\n",
    "print(reverse_string(\"python\"))\n",
    "\n",
    "\n"
   ]
  },
  {
   "cell_type": "code",
   "execution_count": 27,
   "metadata": {},
   "outputs": [
    {
     "name": "stdout",
     "output_type": "stream",
     "text": [
      "Result: bana\n"
     ]
    }
   ],
   "source": [
    "# 23) Write a Python program to get a string made of the first 2 and the last 2 chars from a given a string. If the string length is less than 2, return instead of the empty string.\n",
    "\n",
    "def modify_string(s):\n",
    "    if len(s) < 2:\n",
    "        return \"empty\"  \n",
    "    return s[:2] + s[-2:]  \n",
    "\n",
    "str1 = input(\"Enter a string: \")\n",
    "result = modify_string(str1)\n",
    "print(\"Result:\", result)\n",
    "\n"
   ]
  },
  {
   "cell_type": "code",
   "execution_count": 29,
   "metadata": {},
   "outputs": [
    {
     "name": "stdout",
     "output_type": "stream",
     "text": [
      "Hello Python student\n"
     ]
    }
   ],
   "source": [
    "# 24) Write a Python function to insert a string in the middle of a string.\n",
    "\n",
    "def insert_string_middle(original_string, new_string):\n",
    "    middle_index = len(original_string) // 2  \n",
    "    return original_string[:middle_index] + new_string + original_string[middle_index:]  \n",
    "\n",
    "\n",
    "original_string = \"Hello student\"\n",
    "new_string = \"Python \"\n",
    "result = insert_string_middle(original_string, new_string)\n",
    "print(result)  "
   ]
  },
  {
   "cell_type": "code",
   "execution_count": 100,
   "metadata": {},
   "outputs": [
    {
     "name": "stdout",
     "output_type": "stream",
     "text": [
      "(25, 5, 75)\n"
     ]
    }
   ],
   "source": [
    "# 29) Write a Python function to get the largest number, smallest num and sum of all from a list.\n",
    "\n",
    "def get_largest_smallest_sum(numbers):\n",
    "\n",
    "    largest = max(numbers)\n",
    "    smallest = min(numbers)\n",
    "    sum_of_all = sum(numbers)\n",
    "\n",
    "    return largest, smallest, sum_of_all\n",
    "\n",
    "print(get_largest_smallest_sum([5,10,15,20,25]))"
   ]
  },
  {
   "cell_type": "code",
   "execution_count": 30,
   "metadata": {},
   "outputs": [
    {
     "name": "stdout",
     "output_type": "stream",
     "text": [
      "4\n"
     ]
    }
   ],
   "source": [
    "# 31) Write a Python program to count the number of strings where the string  length is 2 or more and the first and last character are same from a given list of strings. \n",
    "\n",
    "def count_strings(strings):\n",
    "    count = 0\n",
    "    for string in strings:\n",
    "        if len(string) >= 2 and string[0] == string[-1]:\n",
    "            count += 1\n",
    "    return count\n",
    "\n",
    "print(count_strings(['abc', 'mom', 'aba', '1221',\"7227\"]))"
   ]
  },
  {
   "cell_type": "code",
   "execution_count": 101,
   "metadata": {},
   "outputs": [
    {
     "data": {
      "text/plain": [
       "[1, 2, 3, 4, 5, 6, 7]"
      ]
     },
     "execution_count": 101,
     "metadata": {},
     "output_type": "execute_result"
    }
   ],
   "source": [
    "#32) Write a Python program to remove duplicates from a list.\n",
    "x=[1,1,2,3,3,4,4,5,6,6,6,7]\n",
    "x=list(dict.fromkeys(x))\n",
    "x\n"
   ]
  },
  {
   "cell_type": "code",
   "execution_count": 108,
   "metadata": {},
   "outputs": [
    {
     "name": "stdout",
     "output_type": "stream",
     "text": [
      "The list is not empty: ['1', '2', '3', '4', '5']\n"
     ]
    }
   ],
   "source": [
    "# 33) Write a Python program to check a list is empty or not.\n",
    "def check_list_empty():\n",
    "\n",
    "  lst = input(\"Enter anyone with space: \").strip()\n",
    "\n",
    "  lst = lst.split() if lst else []\n",
    "  if not lst:\n",
    "    print(\"The list is empty.\")\n",
    "  else:\n",
    "    print(\"The list is not empty:\",lst)\n",
    "\n",
    "\n",
    "check_list_empty()"
   ]
  },
  {
   "cell_type": "code",
   "execution_count": 109,
   "metadata": {},
   "outputs": [
    {
     "name": "stdout",
     "output_type": "stream",
     "text": [
      "true\n"
     ]
    }
   ],
   "source": [
    "# 34) Write a Python function that takes two lists and returns true if they have at least one common member.\n",
    "\n",
    "def two_list (list1, list2):\n",
    "    for item in list1:\n",
    "        if item in list2:\n",
    "            return True\n",
    "    return False\n",
    "\n",
    "\n",
    "list1 = input(\"Enter anyone with space:\").split()\n",
    "list2 = input(\"Enter anyone with space:\").split()\n",
    "\n",
    "if two_list(list1, list2):\n",
    "    print(\"true\")\n",
    "else:\n",
    "    print(\"false\")\n"
   ]
  },
  {
   "cell_type": "code",
   "execution_count": 110,
   "metadata": {},
   "outputs": [
    {
     "name": "stdout",
     "output_type": "stream",
     "text": [
      "First 5 elements: [1, 4, 9, 16, 25]\n",
      "Last 5 elements: [676, 729, 784, 841, 900]\n"
     ]
    }
   ],
   "source": [
    "# 35) Write a Python program to generate and print a list of first and last 5 elements where the values are square of numbers between 1 and 30.\n",
    "\n",
    "squares = [x**2 for x in range(1, 31)]\n",
    "\n",
    "first_five = squares[:5]\n",
    "last_five = squares[-5:]\n",
    "\n",
    "print(\"First 5 elements:\", first_five)\n",
    "print(\"Last 5 elements:\", last_five)\n",
    "\n",
    "\n"
   ]
  },
  {
   "cell_type": "code",
   "execution_count": 111,
   "metadata": {},
   "outputs": [
    {
     "name": "stdout",
     "output_type": "stream",
     "text": [
      "[1, 2, 3, 6, 4, 5]\n"
     ]
    }
   ],
   "source": [
    "# 36) Write a Python function that takes a list and returns a new list with unique elements of the first list.\n",
    "\n",
    "def unique_list(l):\n",
    "  x=[]\n",
    "  for a in l:\n",
    "    if a not in x:\n",
    "      x.append(a)\n",
    "  return x\n",
    "\n",
    "print(unique_list([1,2,3,3,6,3,3,4,5,6,6]))\n"
   ]
  },
  {
   "cell_type": "code",
   "execution_count": 112,
   "metadata": {},
   "outputs": [
    {
     "name": "stdout",
     "output_type": "stream",
     "text": [
      "tops\n"
     ]
    }
   ],
   "source": [
    "# 37) Write a Python program to convert a list of characters into a string.\n",
    "\n",
    "list=[\"t\",\"o\",\"p\",\"s\"]\n",
    "s=\"\".join(list)\n",
    "print(s)"
   ]
  },
  {
   "cell_type": "code",
   "execution_count": 113,
   "metadata": {},
   "outputs": [
    {
     "name": "stdout",
     "output_type": "stream",
     "text": [
      "60\n"
     ]
    }
   ],
   "source": [
    "# 38) Write a Python program to select an item randomly from a list.\n",
    "\n",
    "import random\n",
    "\n",
    "def random_select(list1):\n",
    "    return random.choice(list1)\n",
    "\n",
    "list1 = [10, 20, 30, 40, 50, 60]\n",
    "print(random_select(list1))"
   ]
  },
  {
   "cell_type": "code",
   "execution_count": 152,
   "metadata": {},
   "outputs": [
    {
     "name": "stdout",
     "output_type": "stream",
     "text": [
      "Second Smallest element is: 4\n"
     ]
    }
   ],
   "source": [
    "# 39) Write a Python program to find the second smallest number in a list.\n",
    "\n",
    "\n",
    "def s_num(list1):\n",
    "    unique_numbers = sorted(set(list1))  \n",
    "    if len(unique_numbers) > 1:\n",
    "        print(\"Second Smallest element is:\", unique_numbers[1])\n",
    "    else:\n",
    "        print(\"No second smallest element found\")\n",
    "\n",
    "list1 = [12, 45, 2, 41, 2, 31, 10, 8, 6, 4]\n",
    "s_num(list1)\n",
    "\n"
   ]
  },
  {
   "cell_type": "code",
   "execution_count": 115,
   "metadata": {},
   "outputs": [
    {
     "name": "stdout",
     "output_type": "stream",
     "text": [
      "[10, 20, 30, 40]\n"
     ]
    }
   ],
   "source": [
    "#40) Write a Python program to get unique values from a list\n",
    "\n",
    "list1=[10,10,20,20,30,40]\n",
    "l=[]\n",
    "for i in list1:\n",
    "  if i not in l:\n",
    "    l.append(i)\n",
    "print(l)\n"
   ]
  },
  {
   "cell_type": "code",
   "execution_count": 1,
   "metadata": {},
   "outputs": [
    {
     "name": "stdout",
     "output_type": "stream",
     "text": [
      "[40, 50]\n"
     ]
    }
   ],
   "source": [
    "# 41) Write a Python program to check whether a list contains a sub list\n",
    "\n",
    "list1 = [10, 20, 30, 40, 50]\n",
    "list2 = [40, 50, 60, 70, 80]\n",
    "\n",
    "\n",
    "common_elements = list(set(list1).intersection(set(list2)))\n",
    "\n",
    "print(common_elements)  \n"
   ]
  },
  {
   "cell_type": "code",
   "execution_count": 116,
   "metadata": {},
   "outputs": [
    {
     "name": "stdout",
     "output_type": "stream",
     "text": [
      "['tops', 'technology']\n"
     ]
    }
   ],
   "source": [
    "# 42) Write a Python program to split a list into different variables.\n",
    "\n",
    "user_input = input(\"Enter words separated by space: \")\n",
    "words = user_input.split()\n",
    "\n",
    "print(words)\n"
   ]
  },
  {
   "cell_type": "code",
   "execution_count": 117,
   "metadata": {},
   "outputs": [
    {
     "name": "stdout",
     "output_type": "stream",
     "text": [
      "(1, 2.5, 'Hello', [10, 20, 30], (40, 50), True)\n",
      "<class 'tuple'>\n",
      "<class 'int'>\n",
      "<class 'float'>\n",
      "<class 'str'>\n",
      "<class 'list'>\n",
      "<class 'tuple'>\n",
      "<class 'bool'>\n"
     ]
    }
   ],
   "source": [
    "# 44) Write a Python program to create a tuple with different data types.\n",
    "\n",
    "\n",
    "t1 = (1, 2.5, \"Hello\", [10, 20, 30], (40, 50), True)\n",
    "\n",
    "print(t1)\n",
    "\n",
    "print(type(t1))\n",
    "\n",
    "print(type(t1[0]))\n",
    "print(type(t1[1]))\n",
    "print(type(t1[2]))\n",
    "print(type(t1[3]))\n",
    "print(type(t1[4]))\n",
    "print(type(t1[5]))\n"
   ]
  },
  {
   "cell_type": "code",
   "execution_count": 118,
   "metadata": {},
   "outputs": [
    {
     "name": "stdout",
     "output_type": "stream",
     "text": [
      "(1, 2, 3, 4)\n",
      "('a', 'b', 'c', 'd')\n"
     ]
    }
   ],
   "source": [
    " # 45) Write a Python program to unzip a list of tuples into individual lists.\n",
    "\n",
    "pairs = [(1,'a'),(2,'b'),(3,'c'),(4,'d')]\n",
    "\n",
    "numbers,letters = zip(*pairs)\n",
    "\n",
    "print(numbers)\n",
    "print(letters)"
   ]
  },
  {
   "cell_type": "code",
   "execution_count": 119,
   "metadata": {},
   "outputs": [
    {
     "name": "stdout",
     "output_type": "stream",
     "text": [
      "{'a': 1, 'b': 2, 'c': 3}\n"
     ]
    }
   ],
   "source": [
    "# 46) Write a Python program to convert a list of tuples into a dictionary.\n",
    "\n",
    "list_of_tuples = [('a', 1), ('b', 2), ('c', 3)]\n",
    "\n",
    "dictionary = dict(list_of_tuples)\n",
    "\n",
    "print(dictionary)"
   ]
  },
  {
   "cell_type": "code",
   "execution_count": 120,
   "metadata": {},
   "outputs": [
    {
     "name": "stdout",
     "output_type": "stream",
     "text": [
      "Original Dictionary: {'apple': 3, 'banana': 1, 'cherry': 5, 'date': 2}\n",
      "Ascending Order Dictionary: {'banana': 1, 'date': 2, 'apple': 3, 'cherry': 5}\n",
      "Descending Order Dictionary: {'cherry': 5, 'apple': 3, 'date': 2, 'banana': 1}\n"
     ]
    }
   ],
   "source": [
    "# 48) Write a Python script to sort (ascending and descending) a dictionary by value.\n",
    "\n",
    "\n",
    "dict1 = {'apple': 3, 'banana': 1, 'cherry': 5, 'date': 2}\n",
    "\n",
    "asc_sorted_dict = dict(sorted(dict1.items(), key=lambda x: x[1]))\n",
    "desc_sorted_dict = dict(sorted(dict1.items(), key=lambda x: x[1], reverse=True))\n",
    "\n",
    "print(\"Original Dictionary:\", dict1)\n",
    "print(\"Ascending Order Dictionary:\", asc_sorted_dict)\n",
    "print(\"Descending Order Dictionary:\", desc_sorted_dict)\n",
    "\n"
   ]
  },
  {
   "cell_type": "code",
   "execution_count": 121,
   "metadata": {},
   "outputs": [
    {
     "name": "stdout",
     "output_type": "stream",
     "text": [
      "{'a': 1, 'b': 2, 'c': 3, 'd': 4, 'e': 5, 'f': 6}\n"
     ]
    }
   ],
   "source": [
    "# 49) Write a Python script to concatenate following dictionaries to create a new one.\n",
    "\n",
    "dict1 = {'a': 1, 'b': 2}\n",
    "dict2 = {'c': 3, 'd': 4}\n",
    "dict3 = {'e': 5, 'f': 6}\n",
    "\n",
    "new_dict = {}\n",
    "new_dict.update(dict1)\n",
    "new_dict.update(dict2)\n",
    "new_dict.update(dict3)\n",
    "\n",
    "print(new_dict)"
   ]
  },
  {
   "cell_type": "code",
   "execution_count": 122,
   "metadata": {},
   "outputs": [
    {
     "name": "stdout",
     "output_type": "stream",
     "text": [
      "The key 'b' exists in the dictionary.\n"
     ]
    }
   ],
   "source": [
    "# 50) Write a Python script to check if a given key already exists in a dictionary.\n",
    "\n",
    "def check_dict(dictionary, key):\n",
    "    if key in dictionary:\n",
    "        return True\n",
    "    else:\n",
    "        return False\n",
    "\n",
    "dict1 = {'a': 1, 'b': 2, 'c': 3}\n",
    "\n",
    "key_check = 'b'\n",
    "if check_dict(dict1, key_check):\n",
    "  print(f\"The key '{key_check}' exists in the dictionary.\")\n",
    "else:\n",
    "  print(f\"The key '{key_check}' does not exist in the dictionary.\")"
   ]
  },
  {
   "cell_type": "code",
   "execution_count": 123,
   "metadata": {},
   "outputs": [
    {
     "name": "stdout",
     "output_type": "stream",
     "text": [
      "{1: 1, 2: 4, 3: 9, 4: 16, 5: 25, 6: 36, 7: 49, 8: 64, 9: 81, 10: 100, 11: 121, 12: 144, 13: 169, 14: 196, 15: 225}\n"
     ]
    }
   ],
   "source": [
    "# 53) Write a Python script to print a dictionary where the keys are numbers between 1 and 15.\n",
    "\n",
    "dict1={num:num**2 for num in range(1,16)}\n",
    "print(dict1)"
   ]
  },
  {
   "cell_type": "code",
   "execution_count": 124,
   "metadata": {},
   "outputs": [
    {
     "name": "stdout",
     "output_type": "stream",
     "text": [
      "Multiple keys exist in the dictionary.\n"
     ]
    }
   ],
   "source": [
    "# 54) Write a Python program to check multiple keys exists in a dictionary\n",
    "\n",
    "dict1 = {'a': 1, 'b': 2, 'c': 3}\n",
    "\n",
    "keys_check = {'a', 'c'}\n",
    "\n",
    "if keys_check.issubset(dict1.keys()):\n",
    "    print(\"Multiple keys exist in the dictionary.\")\n",
    "else:\n",
    "    print(\"Multiple keys do not exist in the dictionary.\")\n"
   ]
  },
  {
   "cell_type": "code",
   "execution_count": 125,
   "metadata": {},
   "outputs": [
    {
     "name": "stdout",
     "output_type": "stream",
     "text": [
      "{'a': 1, 'b': 2, 'c': 3, 'banana': 1, 'date': 2, 'apple': 3, 'cherry': 4}\n"
     ]
    }
   ],
   "source": [
    "# 55) Write a Python script to merge two Python dictionaries\n",
    "\n",
    "dic1= {'a': 1, 'b': 2, 'c': 3}\n",
    "dic2= {'banana': 1, 'date': 2, 'apple': 3, 'cherry': 4}\n",
    "\n",
    "dic1.update(dic2)\n",
    "print(dic1)\n",
    "\n"
   ]
  },
  {
   "cell_type": "code",
   "execution_count": 126,
   "metadata": {},
   "outputs": [
    {
     "name": "stdout",
     "output_type": "stream",
     "text": [
      "{'a': 400, 'b': 400, 'c': 300, 'd': 400}\n"
     ]
    }
   ],
   "source": [
    "# 56) Write a Python program to map two lists into a dictionary\n",
    "# Sample output: Counter ({'a': 400, 'b': 400,’d’: 400, 'c': 300}).\n",
    "\n",
    "list1 = ['a', 'b', 'c', 'd']\n",
    "list2 = [400, 400, 300, 400]\n",
    "\n",
    "dictionary = dict(zip(list1, list2))\n",
    "\n",
    "print(dictionary)"
   ]
  },
  {
   "cell_type": "code",
   "execution_count": 127,
   "metadata": {},
   "outputs": [
    {
     "data": {
      "text/plain": [
       "[600, 500, 400]"
      ]
     },
     "execution_count": 127,
     "metadata": {},
     "output_type": "execute_result"
    }
   ],
   "source": [
    "# 57) Write a Python program to find the highest 3 values in a dictionary\n",
    "\n",
    "dict1 = {'a': 500, 'b': 600, 'c': 300, 'd': 400}\n",
    "\n",
    "sorted_values = sorted(dict1.values(), reverse=True)\n",
    "\n",
    "highest_three = sorted_values[:3]\n",
    "\n",
    "highest_three"
   ]
  },
  {
   "cell_type": "code",
   "execution_count": 128,
   "metadata": {},
   "outputs": [
    {
     "name": "stdout",
     "output_type": "stream",
     "text": [
      "Counter: Counter({'item1': 1150, 'item2': 300})\n"
     ]
    }
   ],
   "source": [
    "#58) Write a Python program to combine values in python list of dictionaries.\n",
    "#Sample data: [{'item': 'item1', 'amount': 400}, {'item': 'item2', 'amount': 300}, o {'item': 'item1', 'amount': 750}]\n",
    "#Expected Output: Counter ({'item1': 1150, 'item2': 300})\n",
    "\n",
    "from collections import Counter\n",
    "\n",
    "data = [\n",
    "    {'item': 'item1', 'amount': 400},\n",
    "    {'item': 'item2', 'amount': 300},\n",
    "    {'item': 'item1', 'amount': 750}\n",
    "]\n",
    "\n",
    "counter = Counter()\n",
    "\n",
    "for entry in data:\n",
    "    counter[entry['item']] += entry['amount']\n",
    "\n",
    "print(\"Counter:\", counter)"
   ]
  },
  {
   "cell_type": "code",
   "execution_count": 129,
   "metadata": {},
   "outputs": [
    {
     "name": "stdout",
     "output_type": "stream",
     "text": [
      "{'w': 1, '3': 1, 'r': 2, 'e': 2, 's': 1, 'o': 1, 'u': 1, 'c': 1}\n"
     ]
    }
   ],
   "source": [
    "# 59) Write a Python program to create a dictionary from a string.\n",
    "# Note: Track the count of the letters from the string.\n",
    "# Sample string:'w3resource'\n",
    "# Expected output: {'3': 1,’s’: 1, 'r': 2, 'u': 1, 'w': 1, 'c': 1, 'e': 2, 'o': 1}\n",
    "\n",
    "text = \"w3resource\"\n",
    "letter_count = Counter(text)\n",
    "print(dict(letter_count))\n"
   ]
  },
  {
   "cell_type": "code",
   "execution_count": 130,
   "metadata": {},
   "outputs": [
    {
     "data": {
      "text/plain": [
       "120"
      ]
     },
     "execution_count": 130,
     "metadata": {},
     "output_type": "execute_result"
    }
   ],
   "source": [
    "# 61) Write a Python function to calculate the factorial of a number (a nonnegative integer)\n",
    "\n",
    "def factorial(n):\n",
    "    if n <= 0 or n == 1:\n",
    "        return 1\n",
    "    else:\n",
    "        return n * factorial(n - 1)\n",
    "\n",
    "factorial(5)\n"
   ]
  },
  {
   "cell_type": "code",
   "execution_count": 131,
   "metadata": {},
   "outputs": [
    {
     "name": "stdout",
     "output_type": "stream",
     "text": [
      "True\n",
      "False\n"
     ]
    }
   ],
   "source": [
    "# 62) Write a Python function to check whether a number is in a given range\n",
    "\n",
    "def is_in_range(number, start, end):\n",
    "    return start <= number <= end\n",
    "\n",
    "print(is_in_range(5, 1, 10))\n",
    "print(is_in_range(15, 1, 10))\n"
   ]
  },
  {
   "cell_type": "code",
   "execution_count": 132,
   "metadata": {},
   "outputs": [
    {
     "name": "stdout",
     "output_type": "stream",
     "text": [
      "not perfect number\n",
      "None\n"
     ]
    }
   ],
   "source": [
    "# 63) Write a Python function to check whether a number is perfect or not.\n",
    "\n",
    "def perfect_number(n):\n",
    "    sum_of_divisors = 0\n",
    "\n",
    "\n",
    "    for i in range(1, n // 2 + 1):\n",
    "        if n % i == 0:\n",
    "            sum_of_divisors += i\n",
    "\n",
    "    if n == sum_of_divisors:\n",
    "        print(\"perfect number\")\n",
    "    else:\n",
    "        print(\"not perfect number\")\n",
    "\n",
    "\n",
    "user = int(input(\"Enter a string: \"))\n",
    "print(perfect_number(user))\n"
   ]
  },
  {
   "cell_type": "code",
   "execution_count": 133,
   "metadata": {},
   "outputs": [
    {
     "name": "stdout",
     "output_type": "stream",
     "text": [
      "palindrome\n"
     ]
    }
   ],
   "source": [
    "# 64) Write a Python function that checks whether a passed string is palindrome or not\n",
    "\n",
    "def palindrome(s):\n",
    "  if s == s[::-1]:\n",
    "    return \"palindrome\"\n",
    "  else:\n",
    "    return \"not palindreom\"\n",
    "\n",
    "user = input(\"Enter a string: \")\n",
    "print(palindrome(user))\n",
    "\n"
   ]
  },
  {
   "cell_type": "code",
   "execution_count": 15,
   "metadata": {},
   "outputs": [
    {
     "name": "stdout",
     "output_type": "stream",
     "text": [
      "python \n",
      "apple\n",
      "banana\n",
      "kiwi\n",
      "\n"
     ]
    }
   ],
   "source": [
    "# 72) Write a Python program to read an entire text file.\n",
    "file = open(\"sample.txt\", \"r\")\n",
    "content = file.read()\n",
    "print(content)\n",
    "file.close()\n"
   ]
  },
  {
   "cell_type": "code",
   "execution_count": 16,
   "metadata": {},
   "outputs": [
    {
     "name": "stdout",
     "output_type": "stream",
     "text": [
      "python \n",
      "apple\n",
      "banana\n",
      "kiwi\n",
      "I am a student.\n",
      "\n"
     ]
    }
   ],
   "source": [
    "# 73) Write a Python program to append text to a file and display the text.\n",
    "\n",
    "with open('sample.txt', 'a') as file:\n",
    "    file.write(\"I am a student.\\n\") \n",
    "\n",
    "with open('sample.txt', 'r',) as file:\n",
    "    file= file.read()\n",
    "\n",
    "print(file)\n"
   ]
  },
  {
   "cell_type": "code",
   "execution_count": 17,
   "metadata": {},
   "outputs": [
    {
     "name": "stdout",
     "output_type": "stream",
     "text": [
      "python \n",
      " apple\n",
      " banana\n",
      " "
     ]
    }
   ],
   "source": [
    "# 74) Write a Python program to read first n lines of a file.\n",
    "\n",
    "\n",
    "with open(\"sample.txt\",'r') as file:\n",
    "   for line in (file.readlines() [:3]):\n",
    "        print(line,end=\" \")\n",
    "\n"
   ]
  },
  {
   "cell_type": "code",
   "execution_count": 18,
   "metadata": {},
   "outputs": [
    {
     "name": "stdout",
     "output_type": "stream",
     "text": [
      "kiwi\n",
      " I am a student.\n",
      " "
     ]
    }
   ],
   "source": [
    "# 75) Write a Python program to read last n lines of a file. \n",
    "\n",
    "with open(\"sample.txt\",'r') as file:\n",
    "   for line in (file.readlines() [-2:]):\n",
    "        print(line,end=\" \")"
   ]
  },
  {
   "cell_type": "code",
   "execution_count": 19,
   "metadata": {},
   "outputs": [
    {
     "name": "stdout",
     "output_type": "stream",
     "text": [
      "['python', 'apple', 'banana', 'kiwi', 'I am a student.']\n"
     ]
    }
   ],
   "source": [
    "# 76) Write a Python program to read a file line by line and store it into a list \n",
    "\n",
    "with open(\"sample.txt\", \"r\",) as file:\n",
    "    lines_list = [lines_list.strip() for lines_list in file]\n",
    "print(lines_list)\n",
    "\n"
   ]
  },
  {
   "cell_type": "code",
   "execution_count": 20,
   "metadata": {},
   "outputs": [
    {
     "name": "stdout",
     "output_type": "stream",
     "text": [
      "['python \\n', 'apple\\n', 'banana\\n', 'kiwi\\n', 'I am a student.\\n']\n"
     ]
    }
   ],
   "source": [
    "# 77) Write a Python program to read a file line by line store it into a variable.\n",
    "\n",
    "with open(\"sample.txt\",'r') as file:\n",
    "    lines_list=[lines_list for lines_list in file]\n",
    "print(lines_list)\n"
   ]
  },
  {
   "cell_type": "code",
   "execution_count": 134,
   "metadata": {},
   "outputs": [
    {
     "name": "stdout",
     "output_type": "stream",
     "text": [
      "programming\n"
     ]
    }
   ],
   "source": [
    "# 78) Write a python program to find the longest words.\n",
    "\n",
    "s = \"I am learning Python programming language\"\n",
    "words = s.split()\n",
    "w= max(words, key=len)\n",
    "\n",
    "print(w)\n"
   ]
  },
  {
   "cell_type": "code",
   "execution_count": 21,
   "metadata": {},
   "outputs": [
    {
     "name": "stdout",
     "output_type": "stream",
     "text": [
      "Total Number of lines: 5\n"
     ]
    }
   ],
   "source": [
    "# 79) Write a Python program to count the number of lines in a text file.\n",
    "\n",
    "with open(\"sample.txt\", 'r') as f:\n",
    "\tlines = len(f.readlines())\n",
    "\tprint('Total Number of lines:', lines)\n"
   ]
  },
  {
   "cell_type": "code",
   "execution_count": 22,
   "metadata": {},
   "outputs": [
    {
     "name": "stdout",
     "output_type": "stream",
     "text": [
      "python 1\n",
      "apple 1\n",
      "banana 1\n",
      "kiwi 1\n",
      "i 1\n",
      "am 1\n",
      "a 1\n",
      "student. 1\n",
      "{'python': 1, 'apple': 1, 'banana': 1, 'kiwi': 1, 'i': 1, 'am': 1, 'a': 1, 'student.': 1}\n"
     ]
    }
   ],
   "source": [
    "# 80) Write a Python program to count the frequency of words in a file.\n",
    "\n",
    "with open(\"sample.txt\", 'r',) as file:\n",
    "    words = file.read().lower().split()  \n",
    "\n",
    "w_count = {}  \n",
    "\n",
    "for word in words:\n",
    "    if word in w_count:\n",
    "        w_count[word] += 1\n",
    "    else:\n",
    "        w_count[word] = 1\n",
    "\n",
    "\n",
    "for word, count in w_count.items():\n",
    "    print(word, count)\n",
    "print(w_count)\n"
   ]
  },
  {
   "cell_type": "code",
   "execution_count": 23,
   "metadata": {},
   "outputs": [
    {
     "name": "stdout",
     "output_type": "stream",
     "text": [
      "Red\n",
      "Green\n",
      "White\n",
      "Black\n",
      "\n"
     ]
    }
   ],
   "source": [
    "# 81) Write a Python program to write a list to a file. \n",
    "\n",
    "lst = ['Red', 'Green', 'White', 'Black']\n",
    "\n",
    "with open('simple.txt', 'w') as file:\n",
    "    for i in lst:\n",
    "        file.write(i + '\\n')\n",
    "\n",
    "with open('simple.txt', 'r') as file:\n",
    "    print(file.read())\n"
   ]
  },
  {
   "cell_type": "code",
   "execution_count": 24,
   "metadata": {},
   "outputs": [],
   "source": [
    "# 82) Write a Python program to copy the contents of a file to another file. \n",
    "\n",
    "\n",
    "with open('sample.txt','r') as firstfile, open('copy_file.txt','w') as secondfile:\n",
    "    \n",
    "    for line in firstfile:\n",
    "        secondfile.write(line)\n",
    "    \n"
   ]
  },
  {
   "cell_type": "code",
   "execution_count": 153,
   "metadata": {},
   "outputs": [
    {
     "name": "stdout",
     "output_type": "stream",
     "text": [
      "Thank you! You entered an odd number: 5\n"
     ]
    }
   ],
   "source": [
    "# 90) Write python program that user to enter only odd numbers, else will raise an exception. \n",
    "\n",
    "class OddNumberError(Exception):    \n",
    "    pass\n",
    "\n",
    "try:\n",
    "    num = int(input(\"Enter an odd number: \"))\n",
    "    if num % 2 == 0:\n",
    "        raise OddNumberError(\"Even number entered! Please enter only odd numbers.\")\n",
    "    print(f\"Thank you! You entered an odd number: {num}\")\n",
    "\n",
    "except ValueError:\n",
    "    print(\"Invalid input! Please enter a valid integer.\")\n",
    "except OddNumberError as e:\n",
    "    print(e)\n"
   ]
  }
 ],
 "metadata": {
  "kernelspec": {
   "display_name": "Python 3",
   "language": "python",
   "name": "python3"
  },
  "language_info": {
   "codemirror_mode": {
    "name": "ipython",
    "version": 3
   },
   "file_extension": ".py",
   "mimetype": "text/x-python",
   "name": "python",
   "nbconvert_exporter": "python",
   "pygments_lexer": "ipython3",
   "version": "3.11.1"
  }
 },
 "nbformat": 4,
 "nbformat_minor": 2
}
